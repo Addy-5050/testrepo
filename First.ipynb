{
 "cells": [
  {
   "cell_type": "markdown",
   "id": "8cf2dd66",
   "metadata": {},
   "source": [
    "# My Jupyter Notebook\n"
   ]
  },
  {
   "cell_type": "markdown",
   "id": "4cc16b0b",
   "metadata": {},
   "source": [
    "**By Aradhya Puri**\n",
    "I am currently in 2nd year of my engineering and would like to work in the fiel of data science"
   ]
  },
  {
   "cell_type": "markdown",
   "id": "a66d34d5",
   "metadata": {},
   "source": [
    "*I am intrested in data science because I love the vast variety of problems it could be applied to and how by analysing data we can come up with a solution*"
   ]
  },
  {
   "cell_type": "markdown",
   "id": "4258de27",
   "metadata": {},
   "source": [
    "### My code prints a simple hello world message"
   ]
  },
  {
   "cell_type": "code",
   "execution_count": 1,
   "id": "21ccd448",
   "metadata": {},
   "outputs": [
    {
     "name": "stdout",
     "output_type": "stream",
     "text": [
      "Hellow World!\n"
     ]
    }
   ],
   "source": [
    "print(\"Hellow World!\")"
   ]
  },
  {
   "cell_type": "markdown",
   "id": "a56a17af",
   "metadata": {},
   "source": [
    "http://www.reddit.com\n",
    "1. First Element\n",
    "2. 2nd element"
   ]
  }
 ],
 "metadata": {
  "kernelspec": {
   "display_name": "Python 3",
   "language": "python",
   "name": "python3"
  },
  "language_info": {
   "codemirror_mode": {
    "name": "ipython",
    "version": 3
   },
   "file_extension": ".py",
   "mimetype": "text/x-python",
   "name": "python",
   "nbconvert_exporter": "python",
   "pygments_lexer": "ipython3",
   "version": "3.8.8"
  }
 },
 "nbformat": 4,
 "nbformat_minor": 5
}
